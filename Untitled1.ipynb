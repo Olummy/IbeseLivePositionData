{
 "cells": [
  {
   "cell_type": "code",
   "execution_count": null,
   "id": "f93bd52f",
   "metadata": {},
   "outputs": [],
   "source": [
    "using JSON3\n",
    "using DataFrames"
   ]
  },
  {
   "cell_type": "code",
   "execution_count": null,
   "id": "c92067b1",
   "metadata": {},
   "outputs": [],
   "source": [
    "ls = filter(endswith(\"json\"))"
   ]
  }
 ],
 "metadata": {
  "kernelspec": {
   "display_name": "Julia 1.7.1",
   "language": "julia",
   "name": "julia-1.7"
  }
 },
 "nbformat": 4,
 "nbformat_minor": 5
}

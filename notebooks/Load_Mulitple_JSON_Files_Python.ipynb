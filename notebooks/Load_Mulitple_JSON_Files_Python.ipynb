{
 "cells": [
  {
   "cell_type": "code",
   "execution_count": null,
   "id": "577036dc",
   "metadata": {},
   "outputs": [],
   "source": [
    "import os, json\n",
    "import pandas as pd\n",
    "import numpy as np\n",
    "import glob\n",
    "pd.set_option('display.max_columns', None)"
   ]
  },
  {
   "cell_type": "code",
   "execution_count": null,
   "id": "5059cd0c",
   "metadata": {},
   "outputs": [],
   "source": [
    "temp = pd.DataFrame()\n",
    "\n",
    "path_to_json = 'C:\\\\Users\\\\olumide.oyalola\\\\Documents\\\\WorkingDirectory\\\\Dangote\\\\IbeseLivePosition\\\\data\\\\' \n",
    "\n"
   ]
  },
  {
   "cell_type": "code",
   "execution_count": null,
   "id": "2d42d90f",
   "metadata": {},
   "outputs": [],
   "source": [
    "json_pattern = os.path.join(path_to_json,'*.json')\n",
    "file_list = glob.glob(json_pattern)\n",
    "\n"
   ]
  },
  {
   "cell_type": "code",
   "execution_count": null,
   "id": "4fb1fc47",
   "metadata": {
    "scrolled": true
   },
   "outputs": [],
   "source": [
    "json_pattern"
   ]
  },
  {
   "cell_type": "code",
   "execution_count": null,
   "id": "1f2f264c",
   "metadata": {},
   "outputs": [],
   "source": [
    "sub = file_list[1]"
   ]
  },
  {
   "cell_type": "code",
   "execution_count": null,
   "id": "74a71edb",
   "metadata": {},
   "outputs": [],
   "source": [
    "sub"
   ]
  },
  {
   "cell_type": "code",
   "execution_count": null,
   "id": "e68ac665",
   "metadata": {},
   "outputs": [],
   "source": [
    "df = pd.read_json('C:\\\\Users\\\\olumide.oyalola\\\\Documents\\\\WorkingDirectory\\\\Dangote\\\\IbeseLivePosition\\\\data\\\\livePosition-2022-06-10 09-00-10-752455.json',\n",
    "                 lines = True)"
   ]
  },
  {
   "cell_type": "code",
   "execution_count": null,
   "id": "b6f86060",
   "metadata": {},
   "outputs": [],
   "source": [
    "pd.read_json(\"data/livePosition-2022-06-10 08-00-10-937088.json\", lines=True)"
   ]
  },
  {
   "cell_type": "code",
   "execution_count": null,
   "id": "16864830",
   "metadata": {},
   "outputs": [],
   "source": [
    "dfs = []\n",
    "for file in sub:\n",
    "    data = pd.read_json(file, lines=True, typ=\"series\", encoding = 'utf-8-sig')\n",
    "    dfs.append()\n",
    "\n",
    "temp = pd.concat(dfs, ignore_index = True)\n"
   ]
  },
  {
   "cell_type": "code",
   "execution_count": null,
   "id": "a114e0f6",
   "metadata": {},
   "outputs": [],
   "source": []
  }
 ],
 "metadata": {
  "kernelspec": {
   "display_name": "Python 3 (ipykernel)",
   "language": "python",
   "name": "python3"
  },
  "language_info": {
   "codemirror_mode": {
    "name": "ipython",
    "version": 3
   },
   "file_extension": ".py",
   "mimetype": "text/x-python",
   "name": "python",
   "nbconvert_exporter": "python",
   "pygments_lexer": "ipython3",
   "version": "3.9.7"
  }
 },
 "nbformat": 4,
 "nbformat_minor": 5
}

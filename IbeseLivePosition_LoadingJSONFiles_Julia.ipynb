{
 "cells": [
  {
   "cell_type": "code",
   "execution_count": 6,
   "id": "2c493cc3",
   "metadata": {},
   "outputs": [],
   "source": [
    "using JSON3\n",
    "using DataFrames"
   ]
  },
  {
   "cell_type": "code",
   "execution_count": 7,
   "id": "a24f4d82",
   "metadata": {},
   "outputs": [],
   "source": [
    "files = filter(endswith(\"json\"), readdir(raw\"../IbeseLivePosition/data\", join = true))"
   ]
  },
  {
   "cell_type": "code",
   "execution_count": 8,
   "id": "5d0d6414",
   "metadata": {},
   "outputs": [],
   "source": [
    "files_10 = last(files, 5)"
   ]
  },
  {
   "cell_type": "code",
   "execution_count": 9,
   "id": "5cb6ae4a",
   "metadata": {},
   "outputs": [],
   "source": [
    "@time df = JSON3.read.(read.(files_10, String)) |> DataFrame"
   ]
  },
  {
   "cell_type": "code",
   "execution_count": 10,
   "id": "91a1b4ad",
   "metadata": {},
   "outputs": [],
   "source": [
    "df "
   ]
  },
  {
   "cell_type": "code",
   "execution_count": null,
   "id": "67c06702",
   "metadata": {},
   "outputs": [],
   "source": []
  }
 ],
 "metadata": {
  "kernelspec": {
   "display_name": "Julia 1.7.1",
   "language": "julia",
   "name": "julia-1.7"
  },
  "language_info": {
   "file_extension": ".jl",
   "mimetype": "application/julia",
   "name": "julia",
   "version": "1.7.1"
  }
 },
 "nbformat": 4,
 "nbformat_minor": 5
}
